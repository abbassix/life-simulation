{
  "nbformat": 4,
  "nbformat_minor": 0,
  "metadata": {
    "colab": {
      "name": "LifeSim.ipynb",
      "provenance": [],
      "collapsed_sections": [],
      "authorship_tag": "ABX9TyM1Rk8xYpOrg+19MgIvdpZK",
      "include_colab_link": true
    },
    "kernelspec": {
      "name": "python3",
      "display_name": "Python 3"
    },
    "language_info": {
      "name": "python"
    }
  },
  "cells": [
    {
      "cell_type": "markdown",
      "metadata": {
        "id": "view-in-github",
        "colab_type": "text"
      },
      "source": [
        "<a href=\"https://colab.research.google.com/github/abbassix/life-simulation/blob/main/LifeSim.ipynb\" target=\"_parent\"><img src=\"https://colab.research.google.com/assets/colab-badge.svg\" alt=\"Open In Colab\"/></a>"
      ]
    },
    {
      "cell_type": "code",
      "metadata": {
        "id": "gJOdWOEUpp8O"
      },
      "source": [
        "import numpy as np"
      ],
      "execution_count": 1,
      "outputs": []
    },
    {
      "cell_type": "code",
      "metadata": {
        "id": "tcbtnhAvqymT"
      },
      "source": [
        "number_of_rows = 10\n",
        "number_of_columns = 10\n",
        "number_of_entities = 10\n",
        "fact_book = {}"
      ],
      "execution_count": 2,
      "outputs": []
    },
    {
      "cell_type": "code",
      "metadata": {
        "id": "yVBwaYRjumoL"
      },
      "source": [
        "def update_fact_book(entity, location, creation_time=None):\n",
        "  global fact_book\n",
        "  if entity not in fact_book.keys():\n",
        "    fact_book[entity] = {}\n",
        "  if location:\n",
        "    fact_book[entity]['location'] = location\n",
        "  if creation_time != None:\n",
        "    fact_book[entity]['creation_time'] = creation_time"
      ],
      "execution_count": 3,
      "outputs": []
    },
    {
      "cell_type": "code",
      "metadata": {
        "id": "vHcyAQSwq9Wj"
      },
      "source": [
        "def genesis(number_of_rows, number_of_columns, number_of_entities):\n",
        "  time_sapce = np.zeros((1, number_of_rows, number_of_columns))\n",
        "  entities = [n+1 for n in range(number_of_entities)]\n",
        "  while len(entities):\n",
        "    fiat_row = np.random.randint(number_of_rows)\n",
        "    fiat_column = np.random.randint(number_of_columns)\n",
        "    if time_sapce[0, fiat_row, fiat_column] == 0:\n",
        "      update_fact_book(entity=entities[0], location=[fiat_row, fiat_column], creation_time=0)\n",
        "      time_sapce[0, fiat_row, fiat_column] = entities[0]\n",
        "      del entities[0]\n",
        "  return(time_sapce)"
      ],
      "execution_count": 4,
      "outputs": []
    },
    {
      "cell_type": "code",
      "metadata": {
        "colab": {
          "base_uri": "https://localhost:8080/"
        },
        "id": "IzZrz6Mqtdbo",
        "outputId": "26765dc5-6af9-460e-a935-bde6153a2a08"
      },
      "source": [
        "time_sapce = genesis(number_of_rows, number_of_columns, number_of_entities)\n",
        "time_sapce"
      ],
      "execution_count": 5,
      "outputs": [
        {
          "output_type": "execute_result",
          "data": {
            "text/plain": [
              "array([[[ 0.,  0.,  0.,  0.,  0.,  0.,  0.,  0.,  9.,  0.],\n",
              "        [ 0.,  0.,  0.,  0.,  0.,  0.,  0., 10.,  0.,  0.],\n",
              "        [ 0.,  0.,  0.,  4.,  0.,  8.,  0.,  0.,  0.,  0.],\n",
              "        [ 0.,  0.,  0.,  0.,  0.,  0.,  0.,  0.,  0.,  0.],\n",
              "        [ 0.,  0.,  0.,  0.,  0.,  0.,  0.,  0.,  0.,  5.],\n",
              "        [ 0.,  0.,  0.,  0.,  0.,  0.,  0.,  0.,  0.,  0.],\n",
              "        [ 0.,  0.,  0.,  0.,  0.,  0.,  0.,  0.,  0.,  0.],\n",
              "        [ 0.,  0.,  0.,  0.,  1.,  0.,  0.,  0.,  2.,  0.],\n",
              "        [ 0.,  0.,  0.,  3.,  0.,  0.,  0.,  0.,  0.,  0.],\n",
              "        [ 0.,  7.,  0.,  0.,  0.,  6.,  0.,  0.,  0.,  0.]]])"
            ]
          },
          "metadata": {
            "tags": []
          },
          "execution_count": 5
        }
      ]
    },
    {
      "cell_type": "code",
      "metadata": {
        "colab": {
          "base_uri": "https://localhost:8080/"
        },
        "id": "zQN9iosjxkL5",
        "outputId": "380c84d4-0cdc-4204-8c51-e5627aa0deef"
      },
      "source": [
        "fact_book"
      ],
      "execution_count": 6,
      "outputs": [
        {
          "output_type": "execute_result",
          "data": {
            "text/plain": [
              "{1: {'creation_time': 0, 'location': [7, 4]},\n",
              " 2: {'creation_time': 0, 'location': [7, 8]},\n",
              " 3: {'creation_time': 0, 'location': [8, 3]},\n",
              " 4: {'creation_time': 0, 'location': [2, 3]},\n",
              " 5: {'creation_time': 0, 'location': [4, 9]},\n",
              " 6: {'creation_time': 0, 'location': [9, 5]},\n",
              " 7: {'creation_time': 0, 'location': [9, 1]},\n",
              " 8: {'creation_time': 0, 'location': [2, 5]},\n",
              " 9: {'creation_time': 0, 'location': [0, 8]},\n",
              " 10: {'creation_time': 0, 'location': [1, 7]}}"
            ]
          },
          "metadata": {
            "tags": []
          },
          "execution_count": 6
        }
      ]
    },
    {
      "cell_type": "code",
      "metadata": {
        "id": "XfGHq63fmTLm"
      },
      "source": [
        "def next_(time_sapce, time):\n",
        "  # create new time-layer IF there isn't a.r.\n",
        "  time_sapce = np.append(time_sapce, time_sapce[time:,:,:], axis=0)  # create new time-layer\n",
        "  return time_sapce"
      ],
      "execution_count": 7,
      "outputs": []
    },
    {
      "cell_type": "code",
      "metadata": {
        "colab": {
          "base_uri": "https://localhost:8080/"
        },
        "id": "LchgrGDmovAO",
        "outputId": "01c525b2-6ba8-423d-ac9f-dcee1744c7d8"
      },
      "source": [
        "time_sapce = next_(time_sapce, time=0)\n",
        "time_sapce"
      ],
      "execution_count": 8,
      "outputs": [
        {
          "output_type": "execute_result",
          "data": {
            "text/plain": [
              "array([[[ 0.,  0.,  0.,  0.,  0.,  0.,  0.,  0.,  9.,  0.],\n",
              "        [ 0.,  0.,  0.,  0.,  0.,  0.,  0., 10.,  0.,  0.],\n",
              "        [ 0.,  0.,  0.,  4.,  0.,  8.,  0.,  0.,  0.,  0.],\n",
              "        [ 0.,  0.,  0.,  0.,  0.,  0.,  0.,  0.,  0.,  0.],\n",
              "        [ 0.,  0.,  0.,  0.,  0.,  0.,  0.,  0.,  0.,  5.],\n",
              "        [ 0.,  0.,  0.,  0.,  0.,  0.,  0.,  0.,  0.,  0.],\n",
              "        [ 0.,  0.,  0.,  0.,  0.,  0.,  0.,  0.,  0.,  0.],\n",
              "        [ 0.,  0.,  0.,  0.,  1.,  0.,  0.,  0.,  2.,  0.],\n",
              "        [ 0.,  0.,  0.,  3.,  0.,  0.,  0.,  0.,  0.,  0.],\n",
              "        [ 0.,  7.,  0.,  0.,  0.,  6.,  0.,  0.,  0.,  0.]],\n",
              "\n",
              "       [[ 0.,  0.,  0.,  0.,  0.,  0.,  0.,  0.,  9.,  0.],\n",
              "        [ 0.,  0.,  0.,  0.,  0.,  0.,  0., 10.,  0.,  0.],\n",
              "        [ 0.,  0.,  0.,  4.,  0.,  8.,  0.,  0.,  0.,  0.],\n",
              "        [ 0.,  0.,  0.,  0.,  0.,  0.,  0.,  0.,  0.,  0.],\n",
              "        [ 0.,  0.,  0.,  0.,  0.,  0.,  0.,  0.,  0.,  5.],\n",
              "        [ 0.,  0.,  0.,  0.,  0.,  0.,  0.,  0.,  0.,  0.],\n",
              "        [ 0.,  0.,  0.,  0.,  0.,  0.,  0.,  0.,  0.,  0.],\n",
              "        [ 0.,  0.,  0.,  0.,  1.,  0.,  0.,  0.,  2.,  0.],\n",
              "        [ 0.,  0.,  0.,  3.,  0.,  0.,  0.,  0.,  0.,  0.],\n",
              "        [ 0.,  7.,  0.,  0.,  0.,  6.,  0.,  0.,  0.,  0.]]])"
            ]
          },
          "metadata": {
            "tags": []
          },
          "execution_count": 8
        }
      ]
    },
    {
      "cell_type": "code",
      "metadata": {
        "id": "QFBVkbfnq-01"
      },
      "source": [
        "def movement(time_sapce, entity, time, origin, destination):\n",
        "  if abs(origin[0]-destination[0]) + abs(origin[1]-destination[1]) > 2:\n",
        "    raise Exception('teleportation not possible')\n",
        "  elif time_sapce[time, origin[0], origin[1]] != entity:\n",
        "    raise Exception('nothing ab initio')\n",
        "  elif time_sapce[time+1, destination[0], destination[1]] == 0:\n",
        "    update_fact_book(entity=entity, location=[destination[0], destination[1]])\n",
        "    time_sapce[time+1, origin[0], origin[1]] = 0\n",
        "    time_sapce[time+1, destination[0], destination[1]] = entity\n",
        "    return time_sapce\n",
        "  else:\n",
        "    raise Exception('conflict')"
      ],
      "execution_count": 9,
      "outputs": []
    },
    {
      "cell_type": "code",
      "metadata": {
        "colab": {
          "base_uri": "https://localhost:8080/"
        },
        "id": "UiUwHRHgrcuw",
        "outputId": "07f69082-c697-4475-c4d4-ba42c3a3eaa5"
      },
      "source": [
        "time_sapce = movement(time_sapce, entity=1, time=0, origin=[7, 4], destination=[6, 4])\n",
        "time_sapce"
      ],
      "execution_count": 10,
      "outputs": [
        {
          "output_type": "execute_result",
          "data": {
            "text/plain": [
              "array([[[ 0.,  0.,  0.,  0.,  0.,  0.,  0.,  0.,  9.,  0.],\n",
              "        [ 0.,  0.,  0.,  0.,  0.,  0.,  0., 10.,  0.,  0.],\n",
              "        [ 0.,  0.,  0.,  4.,  0.,  8.,  0.,  0.,  0.,  0.],\n",
              "        [ 0.,  0.,  0.,  0.,  0.,  0.,  0.,  0.,  0.,  0.],\n",
              "        [ 0.,  0.,  0.,  0.,  0.,  0.,  0.,  0.,  0.,  5.],\n",
              "        [ 0.,  0.,  0.,  0.,  0.,  0.,  0.,  0.,  0.,  0.],\n",
              "        [ 0.,  0.,  0.,  0.,  0.,  0.,  0.,  0.,  0.,  0.],\n",
              "        [ 0.,  0.,  0.,  0.,  1.,  0.,  0.,  0.,  2.,  0.],\n",
              "        [ 0.,  0.,  0.,  3.,  0.,  0.,  0.,  0.,  0.,  0.],\n",
              "        [ 0.,  7.,  0.,  0.,  0.,  6.,  0.,  0.,  0.,  0.]],\n",
              "\n",
              "       [[ 0.,  0.,  0.,  0.,  0.,  0.,  0.,  0.,  9.,  0.],\n",
              "        [ 0.,  0.,  0.,  0.,  0.,  0.,  0., 10.,  0.,  0.],\n",
              "        [ 0.,  0.,  0.,  4.,  0.,  8.,  0.,  0.,  0.,  0.],\n",
              "        [ 0.,  0.,  0.,  0.,  0.,  0.,  0.,  0.,  0.,  0.],\n",
              "        [ 0.,  0.,  0.,  0.,  0.,  0.,  0.,  0.,  0.,  5.],\n",
              "        [ 0.,  0.,  0.,  0.,  0.,  0.,  0.,  0.,  0.,  0.],\n",
              "        [ 0.,  0.,  0.,  0.,  1.,  0.,  0.,  0.,  0.,  0.],\n",
              "        [ 0.,  0.,  0.,  0.,  0.,  0.,  0.,  0.,  2.,  0.],\n",
              "        [ 0.,  0.,  0.,  3.,  0.,  0.,  0.,  0.,  0.,  0.],\n",
              "        [ 0.,  7.,  0.,  0.,  0.,  6.,  0.,  0.,  0.,  0.]]])"
            ]
          },
          "metadata": {
            "tags": []
          },
          "execution_count": 10
        }
      ]
    },
    {
      "cell_type": "code",
      "metadata": {
        "colab": {
          "base_uri": "https://localhost:8080/"
        },
        "id": "JljMpAflsDXt",
        "outputId": "bf30731b-47bb-4391-f14a-4c9933bb6a01"
      },
      "source": [
        "fact_book"
      ],
      "execution_count": 11,
      "outputs": [
        {
          "output_type": "execute_result",
          "data": {
            "text/plain": [
              "{1: {'creation_time': 0, 'location': [6, 4]},\n",
              " 2: {'creation_time': 0, 'location': [7, 8]},\n",
              " 3: {'creation_time': 0, 'location': [8, 3]},\n",
              " 4: {'creation_time': 0, 'location': [2, 3]},\n",
              " 5: {'creation_time': 0, 'location': [4, 9]},\n",
              " 6: {'creation_time': 0, 'location': [9, 5]},\n",
              " 7: {'creation_time': 0, 'location': [9, 1]},\n",
              " 8: {'creation_time': 0, 'location': [2, 5]},\n",
              " 9: {'creation_time': 0, 'location': [0, 8]},\n",
              " 10: {'creation_time': 0, 'location': [1, 7]}}"
            ]
          },
          "metadata": {
            "tags": []
          },
          "execution_count": 11
        }
      ]
    },
    {
      "cell_type": "code",
      "metadata": {
        "id": "kLDFeqyo1bij"
      },
      "source": [
        ""
      ],
      "execution_count": null,
      "outputs": []
    }
  ]
}